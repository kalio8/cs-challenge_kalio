{
 "cells": [
  {
   "cell_type": "code",
   "execution_count": null,
   "id": "97198041-4a4c-47d1-8092-3395af48350e",
   "metadata": {},
   "outputs": [],
   "source": [
    "def matrix_multiplication(n , m1, m2):\n",
    "\n",
    "    new_mat = [[0 for value in range(n)] for value in range(n)]\n",
    "\n",
    "    curr_row_index = 0\n",
    "    temp = 0 \n",
    "\n",
    "    while curr_row_index < n:\n",
    "        curr_row = m1[curr_row_index]\n",
    "        col_index = 0\n",
    "        \n",
    "        for j in range(n):\n",
    "            for i in range(n):\n",
    "                temp += curr_row[i] * m2[i][j]\n",
    "                if i == n-1:\n",
    "                    new_mat[curr_row_index][col_index] = temp\n",
    "                    temp = 0\n",
    "            col_index += 1\n",
    "        curr_row_index += 1\n",
    "        \n",
    "        \n",
    "    return new_mat\n",
    "    "
   ]
  }
 ],
 "metadata": {
  "kernelspec": {
   "display_name": "Python 3 (ipykernel)",
   "language": "python",
   "name": "python3"
  },
  "language_info": {
   "codemirror_mode": {
    "name": "ipython",
    "version": 3
   },
   "file_extension": ".py",
   "mimetype": "text/x-python",
   "name": "python",
   "nbconvert_exporter": "python",
   "pygments_lexer": "ipython3",
   "version": "3.11.7"
  }
 },
 "nbformat": 4,
 "nbformat_minor": 5
}
